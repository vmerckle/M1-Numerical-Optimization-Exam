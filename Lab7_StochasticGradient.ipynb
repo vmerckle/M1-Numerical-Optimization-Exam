{
 "cells": [
  {
   "cell_type": "markdown",
   "metadata": {},
   "source": [
    "<center><img src=\"Fig/UGA.png\" width=\"30%\" height=\"30%\"></center>\n",
    "<center><h3>Master of Science in Industrial and Applied Mathematics (MSIAM)  - 1st year</h3></center>\n",
    "<hr>\n",
    "<center><h1>Numerical Optimization</h1></center>\n",
    "<center><h2>Lab 7: Stochastic Gradient</h2></center>"
   ]
  },
  {
   "cell_type": "markdown",
   "metadata": {},
   "source": [
    "---"
   ]
  },
  {
   "cell_type": "code",
   "execution_count": 1,
   "metadata": {},
   "outputs": [],
   "source": [
    "%load_ext autoreload\n",
    "%autoreload 2"
   ]
  },
  {
   "cell_type": "code",
   "execution_count": 2,
   "metadata": {},
   "outputs": [],
   "source": [
    "import numpy as np\n",
    "import logistic_regression_student as pb\n",
    "import timeit\n",
    "\n",
    "import matplotlib.pyplot as plt\n",
    "%matplotlib inline"
   ]
  },
  {
   "cell_type": "markdown",
   "metadata": {},
   "source": [
    "# Logistic Regression Problem\n",
    " \n",
    " \n",
    " \n",
    "### Machine Learning as an Optimization problem\n",
    " \n",
    "We have some *data*  $\\mathcal{D}$ consisting of $m$ *examples* $\\{d_i\\}$; each example consisting of a *feature* vector $a_i\\in\\mathbb{R}^d$ and an *observation* $b_i\\in \\mathcal{O}$: $\\mathcal{D} = \\{[a_i,b_i]\\}_{i=1..m}$. In this lab, we will consider the <a href=\"http://archive.ics.uci.edu/ml/datasets/Student+Performance\">student performance</a> dataset.\n",
    " \n",
    " \n",
    "The goal of *supervised learning* is to construct a predictor for the observations when given feature vectors.\n",
    " \n",
    " \n",
    " A popular approach is based on *linear models* which are based on finding a *parameter* $x$ such that the real number $\\langle a_i , x \\rangle$ is used to predict the value of the observation through a *predictor function* $g:\\mathbb{R}\\to \\mathcal{O}$: $g(\\langle a_i , x \\rangle)$ is the predicted value from $a_i$.\n",
    " \n",
    " \n",
    " In order to find such a parameter, we use the available data and a *loss* $\\ell$ that penalizes the error made between the predicted $g(\\langle a_i , x \\rangle)$ and observed $b_i$ values. For each example $i$, the corresponding error function for a parameter $x$ is $f_i(x) =   \\ell( g(\\langle a_i , x \\rangle) ; b_i )$. Using the whole data, the parameter that minimizes the total error is the solution of the minimization problem\n",
    " $$ \\min_{x\\in\\mathbb{R}^d}  \\frac{1}{m} \\sum_{i=1}^m f_i(x) = \\frac{1}{m} \\sum_{i=1}^m  \\ell( g(\\langle a_i , x \\rangle) ; b_i ). $$\n",
    " \n",
    " \n",
    " \n",
    "### Regularized Problem \n",
    " \n",
    "In this lab, we will consider an $\\ell_1$ regularization to promote sparsity of the iterates. A sparse final solution would select the most important features. The new function (below) is non-smooth but it has a smooth part, $f$; and a non-smooth part, $g$, that we will treat with proximal operations.\n",
    " \n",
    " \\begin{align*}\n",
    "     \\min_{x\\in\\mathbb{R}^d } F(x) := \\underbrace{  \\sum_{i=1}^m \\overbrace{\\frac{1}{m}  \\log( 1+\\exp(-b_i \\langle a_i,x \\rangle) ) + \\frac{\\lambda_2}{2m} \\|x\\|_2^2 }^{f_i(x)} }_{f(x)} + \\underbrace{\\lambda_1 \\|x\\|_1 }_{g(x)}.\n",
    " \\end{align*}\n",
    " \n",
    " \n"
   ]
  },
  {
   "cell_type": "markdown",
   "metadata": {},
   "source": [
    "# Recall of the proximal gradient algorithm\n",
    "\n",
    "Below is an implementation of the proximal gradient algorithm."
   ]
  },
  {
   "cell_type": "code",
   "execution_count": 3,
   "metadata": {},
   "outputs": [],
   "source": [
    "def proximal_gradient_algorithm(F , f_grad , g_prox , x0 , step , PREC , ITE_MAX , PRINT ):\n",
    "    x = np.copy(x0)\n",
    "    x_tab = np.copy(x)\n",
    "    if PRINT:\n",
    "        print(\"------------------------------------\\n Proximal gradient algorithm\\n------------------------------------\\nSTART    -- stepsize = {:0}\".format(step))\n",
    "    t_s =  timeit.default_timer()\n",
    "\n",
    "    for k in range(ITE_MAX):\n",
    "        g = f_grad(x)\n",
    "        x = g_prox(x - step*g , step)\n",
    "\n",
    "        x_tab = np.vstack((x_tab,x))\n",
    "\n",
    "    t_e =  timeit.default_timer()\n",
    "    if PRINT:\n",
    "        print(\"FINISHED -- {:d} iterations / {:.6f}s -- final value: {:f}\".format(k,t_e-t_s,F(x)))\n",
    "    return x, x_tab"
   ]
  },
  {
   "cell_type": "code",
   "execution_count": 4,
   "metadata": {},
   "outputs": [
    {
     "name": "stdout",
     "output_type": "stream",
     "text": [
      "------------------------------------\n",
      " Proximal gradient algorithm\n",
      "------------------------------------\n",
      "START    -- stepsize = 0.030334772813507393\n",
      "FINISHED -- 999 iterations / 3.027533s -- final value: 0.438712\n"
     ]
    }
   ],
   "source": [
    "#### Parameter we give our algorithm\n",
    "PREC    = 1e-5                     # Sought precision\n",
    "ITE_MAX = 1000                     # Max number of iterations\n",
    "x0      = np.zeros(pb.n)           # Initial point\n",
    "step    = 1.0/pb.L\n",
    "\n",
    "##### gradient algorithm\n",
    "x,x_tab = proximal_gradient_algorithm(pb.F , pb.f_grad, pb.g_prox, x0, step, PREC, ITE_MAX , True)"
   ]
  },
  {
   "cell_type": "markdown",
   "metadata": {},
   "source": [
    "### Decrease of the algorithm."
   ]
  },
  {
   "cell_type": "code",
   "execution_count": 5,
   "metadata": {},
   "outputs": [
    {
     "data": {
      "image/png": "[encoded data removed]",
      "text/plain": [
       "<Figure size 432x288 with 1 Axes>"
      ]
     },
     "metadata": {
      "needs_background": "light"
     },
     "output_type": "display_data"
    }
   ],
   "source": [
    "xs = range(x_tab.shape[0])\n",
    "ys = [ pb.f(x_tab[ind]) for ind in xs ]\n",
    "\n",
    "fig, ax = plt.subplots()\n",
    "ax.plot(xs, ys, linewidth=1.0, linestyle='-', label='prox. gradient', color='black')\n",
    "ax.set(xlabel='iteration k', ylabel='f(x_k)')\n",
    "ax.legend(); ax.grid()"
   ]
  },
  {
   "cell_type": "markdown",
   "metadata": {},
   "source": [
    "### Support of the vector $x_k$ "
   ]
  },
  {
   "cell_type": "code",
   "execution_count": 6,
   "metadata": {},
   "outputs": [
    {
     "data": {
      "image/png": "[encoded data removed]",
      "text/plain": [
       "<Figure size 432x288 with 1 Axes>"
      ]
     },
     "metadata": {
      "needs_background": "light"
     },
     "output_type": "display_data"
    }
   ],
   "source": [
    "fig, ax = plt.subplots()\n",
    "\n",
    "for i in np.arange(0,x_tab.shape[0],int(x_tab.shape[0]/40)):\n",
    "    for j in range(pb.n):\n",
    "        if np.abs(x_tab[i, j])>1e-14:\n",
    "            ax.plot(i, j,'ko')\n",
    "\n",
    "ax.set(ylabel='Non-null Coordinates', xlabel='Nb. Iterations', ylim=(-1,pb.d+1), yticks=np.arange(0,pb.d+1))\n",
    "ax.grid()"
   ]
  },
  {
   "cell_type": "markdown",
   "metadata": {},
   "source": [
    "---\n",
    "\n",
    "# Stochastic gradient\n",
    "\n",
    "\n",
    "In the following, instead of considering $f$ as a whole, we will use its structure \n",
    "$$ f(x) := \\frac{1}{m}\\sum_{i=1}^m f_i(x)$$\n",
    "\n",
    "## f(x) is already implemented.\n",
    "\n",
    "> **Task 1**: Implement the oracle corresponfing to evaluating $f_i$ and $\\nabla f_i$, the function related to one example, in `logistic_regression_student.py`.\n",
    "\n",
    "> **Task 2**: Compare the evaluation times of $f$, $\\nabla f$, $f_i$, $\\nabla f_i$. What do you notice?\n",
    "\n",
    "You may use the `%time` macro available in jupyter notebooks (*e.g.* `%time print(np.random.rand(3))`)."
   ]
  },
  {
   "cell_type": "code",
   "execution_count": null,
   "metadata": {},
   "outputs": [],
   "source": []
  },
  {
   "cell_type": "markdown",
   "metadata": {},
   "source": [
    "With this structure a popular minimization algorithm is the *stochastic gradient algorithm* which writes as follows:\n",
    "* Select uniformly $i$ in $1,..,m$\n",
    "* $x_{k+1} = \\mathbf{prox}_{\\gamma g}\\left( x_k - \\gamma_k \\nabla f_i(x_k) \\right) $\n",
    "\n",
    "> **Task 3**: Implement this algorithm in the notebook with a stepsize vanishing as $1/k$"
   ]
  },
  {
   "cell_type": "code",
   "execution_count": null,
   "metadata": {},
   "outputs": [],
   "source": []
  },
  {
   "cell_type": "markdown",
   "metadata": {},
   "source": [
    "## Interpretation of the behavior\n",
    "\n",
    "### Decrease and sparsity\n",
    "\n",
    "> **Task 4**: Investigate the decrease of the stochastic gradient algorithm, and the sparsity of the iterates."
   ]
  },
  {
   "cell_type": "code",
   "execution_count": null,
   "metadata": {},
   "outputs": [],
   "source": []
  },
  {
   "cell_type": "markdown",
   "metadata": {},
   "source": [
    "#### Proximal gradient vs stochastic gradient\n",
    "\n",
    "> **Task 5**: Compare the decrease of the proximal gradient and the stochastic gradient algorithms. Does the iteration count of each algorithm allows for a fair comparison?"
   ]
  },
  {
   "cell_type": "code",
   "execution_count": null,
   "metadata": {},
   "outputs": [],
   "source": []
  },
  {
   "cell_type": "markdown",
   "metadata": {},
   "source": [
    "### Task 6 -Variance reduction\n",
    "\n",
    "The poor performance of this algorithm is notably due to the variance of the gradients. In order to overcome it, *variance reduced* algorithms have been proposed.\n",
    "\n",
    "We will consider here the popular **SAGA** algorithm  (SAGA: A fast incremental gradient method with support for non-strongly convex composite objectives\n",
    "A Defazio, F Bach, S Lacoste-Julien, NIPS 2014. ) \n",
    "\n",
    "> Implement SAGA from the paper ( http://papers.nips.cc/paper/5258-saga-a-fast-incremental-gradient-method-with-support-for-non-strongly-convex-composite-objectives ) and compare with the stochastic gradient algorithm.\n",
    "\n",
    "The *saga gradient algorithm* which writes as follows:\n",
    "\n",
    "* Initialize (once) for $i$ in $1,...,m$: $\\theta_i = \\nabla f_i(x_0)$\n",
    "* Then for each step:\n",
    "* Select uniformly $i$ in $1,..,m$ do\n",
    "* $x_{k+1} = \\mathbf{prox}_{\\gamma g}\\left( x_k - \\gamma_k \\left(\\nabla f_i(x_k) -\\theta_i + \\frac{1}{m} \\sum_{i=1}^{m} \\theta_i \\right) \\right) $\n",
    "* **Store** the partial gradient: $\\theta_i = \\nabla f_i(x_k)$\n",
    "\n",
    "\n",
    "\n",
    "\n",
    "> **Task 6**: Implement this algorithm in the notebook with a stepsize vanishing as $1/k$\n",
    "\n"
   ]
  },
  {
   "cell_type": "code",
   "execution_count": null,
   "metadata": {},
   "outputs": [],
   "source": []
  }
 ],
 "metadata": {
  "kernelspec": {
   "display_name": "Python 3 (ipykernel)",
   "language": "python",
   "name": "python3"
  },
  "language_info": {
   "codemirror_mode": {
    "name": "ipython",
    "version": 3
   },
   "file_extension": ".py",
   "mimetype": "text/x-python",
   "name": "python",
   "nbconvert_exporter": "python",
   "pygments_lexer": "ipython3",
   "version": "3.11.7"
  }
 },
 "nbformat": 4,
 "nbformat_minor": 4
}
